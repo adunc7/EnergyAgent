{
 "cells": [
  {
   "cell_type": "code",
   "execution_count": null,
   "id": "9a7083fa",
   "metadata": {},
   "outputs": [
    {
     "name": "stdout",
     "output_type": "stream",
     "text": [
      "Index(['sc_point_gid', 'latitude', 'longitude', 'country', 'state', 'county',\n",
      "       'timezone', 'elevation_m', 'resource', 'multiplier_cc_regional',\n",
      "       'area_developable_sq_km', 'capacity_ac_mw', 'capacity_dc_mw',\n",
      "       'capacity_factor_ac', 'capacity_factor_dc', 'lcoe_site_usd_per_mwh',\n",
      "       'dist_spur_km', 'dist_reinforcement_km',\n",
      "       'cost_reinforcement_usd_per_mw', 'cost_total_trans_usd_per_mw',\n",
      "       'lcot_usd_per_mwh', 'lcoe_all_in_usd_per_mwh'],\n",
      "      dtype='object')\n",
      "(57491, 22)\n"
     ]
    }
   ],
   "source": [
    "import pandas as pd\n",
    "\n",
    "#Exploratory Data Analysis (EDA) on a CSV file\n",
    "\n",
    "#Load CSV file \n",
    "df = pd.read_csv('solar_open_access_2035_moderate_supply_curve.csv')\n",
    "\n",
    "#Column names\n",
    "print(df.columns)\n",
    "\n",
    "#Shape of the dataset\n",
    "print(df.shape)\n",
    "\n"
   ]
  },
  {
   "cell_type": "code",
   "execution_count": 2,
   "id": "67a8ec3b",
   "metadata": {},
   "outputs": [
    {
     "name": "stdout",
     "output_type": "stream",
     "text": [
      "       sc_point_gid   latitude   longitude        country       state  \\\n",
      "12621         25847  41.921250 -124.094925  United States  California   \n",
      "12622         25848  41.949654 -123.953575  United States  California   \n",
      "12623         25849  41.977920 -123.812100  United States  California   \n",
      "12912         26226  41.799477 -124.192870  United States  California   \n",
      "12913         26227  41.827980 -124.051850  United States  California   \n",
      "\n",
      "          county  timezone  elevation_m  resource  multiplier_cc_regional  \\\n",
      "12621  Del Norte        -8   301.470588  4.032811                1.083842   \n",
      "12622  Del Norte        -8   626.947368  4.238420                1.083642   \n",
      "12623  Del Norte        -8   753.941176  4.293952                1.083629   \n",
      "12912  Del Norte        -8    77.000000  3.909280                1.085666   \n",
      "12913  Del Norte        -8   345.722222  4.056794                1.085627   \n",
      "\n",
      "       ...  capacity_dc_mw  capacity_factor_ac  capacity_factor_dc  \\\n",
      "12621  ...     5465.185844            0.237402            0.177166   \n",
      "12622  ...     3728.610684            0.246767            0.184154   \n",
      "12623  ...     4915.864363            0.246741            0.184135   \n",
      "12912  ...     2812.083554            0.227968            0.170125   \n",
      "12913  ...     4658.512500            0.238015            0.177623   \n",
      "\n",
      "       lcoe_site_usd_per_mwh  dist_spur_km  dist_reinforcement_km  \\\n",
      "12621              43.530083      4.488305             233.823136   \n",
      "12622              41.871887     11.853961             201.533234   \n",
      "12623              41.875863      0.561838             186.528175   \n",
      "12912              45.392618      8.346610             229.012110   \n",
      "12913              43.475311      2.179188             216.589915   \n",
      "\n",
      "       cost_reinforcement_usd_per_mw  cost_total_trans_usd_per_mw  \\\n",
      "12621                   1.375910e+06                    1551792.9   \n",
      "12622                   9.873655e+05                    1208217.0   \n",
      "12623                   7.452712e+05                     805974.8   \n",
      "12912                   1.351064e+06                    1517961.0   \n",
      "12913                   1.189793e+06                    1344872.0   \n",
      "\n",
      "       lcot_usd_per_mwh  lcoe_all_in_usd_per_mwh  \n",
      "12621         47.830353                91.360435  \n",
      "12622         35.827114                77.699005  \n",
      "12623         23.901985                65.777850  \n",
      "12912         48.723763                94.116380  \n",
      "12913         41.345790                84.821106  \n",
      "\n",
      "[5 rows x 22 columns]\n"
     ]
    }
   ],
   "source": [
    "#Filter rows where the state is California\n",
    "california_rows = df[df['state'] =='California']\n",
    "\n",
    "#Get only the first 5 rows from that filtered result \n",
    "first_5_california = california_rows.head(5)\n",
    "\n",
    "print(first_5_california)"
   ]
  },
  {
   "cell_type": "code",
   "execution_count": 9,
   "id": "ccdc372b",
   "metadata": {},
   "outputs": [
    {
     "name": "stdout",
     "output_type": "stream",
     "text": [
      "Total number of rows for California: 2788\n"
     ]
    }
   ],
   "source": [
    "#Count how many rows for California in all \n",
    "count_california = len(california_rows)\n",
    "print(f\"Total number of rows for California: {count_california}\")\n"
   ]
  },
  {
   "cell_type": "code",
   "execution_count": 10,
   "id": "810949ea",
   "metadata": {},
   "outputs": [],
   "source": [
    "#Print this dataframe to a new CSV file'\n",
    "#first_5_california.to_csv('first_5_california.csv', index=False)\n",
    "#print(\"Filtered data saved to 'first_5_california.csv'.\")"
   ]
  },
  {
   "cell_type": "code",
   "execution_count": 11,
   "id": "19fcc492",
   "metadata": {},
   "outputs": [],
   "source": [
    "#california_rows.to_csv('california_solar_data.csv', index=False)\n",
    "#print(\"Filtered data saved to 'california_solar_data.csv'.\")"
   ]
  },
  {
   "cell_type": "markdown",
   "id": "9d88818f",
   "metadata": {},
   "source": [
    "This Reflects the Data that is Displayed on the Map. Can use the Map alongside a Natural Language Interface "
   ]
  },
  {
   "cell_type": "code",
   "execution_count": 12,
   "id": "f7e8a686",
   "metadata": {},
   "outputs": [
    {
     "name": "stdout",
     "output_type": "stream",
     "text": [
      "Filtered data saved to 'simplified_solar_open_access_2035.csv'.\n"
     ]
    }
   ],
   "source": [
    "# Keep only the columns latitude, longitude, state, county, area_developable_sq_km, capacity_ac_mw, capacity_factor_ac, lcoe_site_usd_per_mwh\n",
    "#lcost_usd_per_mwh, lcoe_all_in_usd_per_mwh \n",
    "\n",
    "#filtered = df[df['state']=='California'][['latitude', 'longitude', 'state', 'county','area_developable_sq_km', 'capacity_ac_mw', 'capacity_factor_ac', 'lcoe_site_usd_per_mwh', 'lcost_usd_per_mwh', 'lcoe_all_in_usd_per_mwh']]\n",
    "filtered = df[df['state']=='California'][['latitude', 'longitude', 'county','area_developable_sq_km', 'capacity_ac_mw', 'capacity_factor_ac', 'lcoe_site_usd_per_mwh', 'lcot_usd_per_mwh', 'lcoe_all_in_usd_per_mwh']]\n",
    "filtered.to_csv('simplified_solar_open_access_2035.csv', index=False)\n",
    "print(\"Filtered data saved to 'simplified_solar_open_access_2035.csv'.\")\n"
   ]
  },
  {
   "cell_type": "code",
   "execution_count": 13,
   "id": "e0a429d4",
   "metadata": {},
   "outputs": [
    {
     "name": "stdout",
     "output_type": "stream",
     "text": [
      "(2788, 9)\n",
      "Unique counties in California: 58\n",
      "Number of rows for San Diego: 83\n",
      "Number of rows for Los Angeles: 79\n"
     ]
    }
   ],
   "source": [
    "print(filtered.shape)\n",
    "cities = filtered['county'].unique()\n",
    "print(f\"Unique counties in California: {len(cities)}\")\n",
    "\n",
    "\n",
    "#Print the number of rows for a specific county. Test case: San Diego. \n",
    "county_name = 'San Diego'\n",
    "count = filtered[filtered['county'] == county_name].shape[0]\n",
    "print(f\"Number of rows for {county_name}: {count}\")\n",
    "\n",
    "\n",
    "county_name2 = 'Los Angeles'\n",
    "count = filtered[filtered['county'] == county_name2].shape[0]\n",
    "print(f\"Number of rows for {county_name2}: {count}\")"
   ]
  },
  {
   "cell_type": "code",
   "execution_count": 19,
   "id": "cae53426",
   "metadata": {},
   "outputs": [],
   "source": [
    "#Point \n",
    "# In 2035, a location in San Diego County, California at X latitude and Y longitude has a capacity of Z MW, a capacity factor of W%, and an LCOE of V USD/MWh.\n",
    "\n",
    "# Points - California has 2788 Points. \n",
    "#One per unique city      I would then get 58 Unique counties in California \n",
    "# One per state           one sentence to summarize the state \n",
    "\n",
    "\n",
    "\n",
    "\n"
   ]
  },
  {
   "cell_type": "code",
   "execution_count": null,
   "id": "2c015505",
   "metadata": {},
   "outputs": [],
   "source": []
  }
 ],
 "metadata": {
  "kernelspec": {
   "display_name": "Python 3",
   "language": "python",
   "name": "python3"
  },
  "language_info": {
   "codemirror_mode": {
    "name": "ipython",
    "version": 3
   },
   "file_extension": ".py",
   "mimetype": "text/x-python",
   "name": "python",
   "nbconvert_exporter": "python",
   "pygments_lexer": "ipython3",
   "version": "3.13.1"
  }
 },
 "nbformat": 4,
 "nbformat_minor": 5
}
